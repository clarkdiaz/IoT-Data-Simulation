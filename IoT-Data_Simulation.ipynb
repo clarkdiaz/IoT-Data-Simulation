{
 "cells": [
  {
   "cell_type": "code",
   "execution_count": 2,
   "id": "94fc67f7",
   "metadata": {},
   "outputs": [
    {
     "name": "stdout",
     "output_type": "stream",
     "text": [
      "  shipment_id                  timestamp    gps_lat    gps_long  rfid_tag  \\\n",
      "0   SHP890073 2025-05-09 11:17:12.959890  14.892057  120.590308  RFID1020   \n",
      "1   SHP833734 2025-05-09 04:20:12.960891  12.980150  122.028213  RFID1023   \n",
      "2   SHP341874 2025-05-08 22:35:12.960891  14.763708  120.482752  RFID1097   \n",
      "3   SHP962259 2025-05-09 03:04:12.960891  14.049123  122.074905  RFID1083   \n",
      "4   SHP682101 2025-05-09 10:17:12.960891  12.944845  122.497559  RFID1034   \n",
      "\n",
      "   package_temp_c  humidity_percent            status  \n",
      "0            5.31             45.25         Delivered  \n",
      "1            4.18             36.23  Out for Delivery  \n",
      "2            4.05             50.13        In Transit  \n",
      "3            7.88             67.90    Arrived at Hub  \n",
      "4            8.06             37.73        In Transit  \n"
     ]
    }
   ],
   "source": [
    "import pandas as pd\n",
    "import numpy as np\n",
    "from datetime import datetime, timedelta\n",
    "\n",
    "num_records = 100  # Adjust as needed\n",
    "\n",
    "# Define example statuses and RFID tags\n",
    "statuses = [\"In Transit\", \"Arrived at Hub\", \"Out for Delivery\", \"Delivered\", \"Delayed\"]\n",
    "rfid_tags = [f\"RFID{str(i).zfill(4)}\" for i in range(1000, 1100)]\n",
    "\n",
    "# Generate synthetic data\n",
    "data = []\n",
    "for _ in range(num_records):\n",
    "    lat = round(np.random.uniform(10.0, 15.0), 6)  # GPS lat (e.g., within Philippines)\n",
    "    long = round(np.random.uniform(120.0, 125.0), 6)  # GPS long\n",
    "    temp = round(np.random.uniform(2.0, 10.0), 2)  # Temperature in °C (for cold chain)\n",
    "    humidity = round(np.random.uniform(30.0, 70.0), 2)  # Humidity %\n",
    "    \n",
    "    record = {\n",
    "        \"shipment_id\": f\"SHP{np.random.randint(100000, 999999)}\",\n",
    "        \"timestamp\": datetime.now() - timedelta(minutes=np.random.randint(0, 1440)),\n",
    "        \"gps_lat\": lat,\n",
    "        \"gps_long\": long,\n",
    "        \"rfid_tag\": np.random.choice(rfid_tags),\n",
    "        \"package_temp_c\": temp,\n",
    "        \"humidity_percent\": humidity,\n",
    "        \"status\": np.random.choice(statuses)\n",
    "    }\n",
    "    data.append(record)\n",
    "\n",
    "# Convert to DataFrame\n",
    "df = pd.DataFrame(data)\n",
    "\n",
    "# Save to files\n",
    "df.to_csv(\"smart_logistics_data.csv\", index=False)\n",
    "df.to_json(\"smart_logistics_data.json\", orient=\"records\")\n",
    "\n",
    "# Show sample\n",
    "print(df.head())\n"
   ]
  }
 ],
 "metadata": {
  "kernelspec": {
   "display_name": ".venv",
   "language": "python",
   "name": "python3"
  },
  "language_info": {
   "codemirror_mode": {
    "name": "ipython",
    "version": 3
   },
   "file_extension": ".py",
   "mimetype": "text/x-python",
   "name": "python",
   "nbconvert_exporter": "python",
   "pygments_lexer": "ipython3",
   "version": "3.12.4"
  }
 },
 "nbformat": 4,
 "nbformat_minor": 5
}
