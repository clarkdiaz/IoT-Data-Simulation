{
 "cells": [
  {
   "cell_type": "code",
   "execution_count": null,
   "id": "94fc67f7",
   "metadata": {},
   "outputs": [
    {
     "name": "stdout",
     "output_type": "stream",
     "text": [
      "  shipment_id                  timestamp    gps_lat    gps_long  rfid_tag  \\\n",
      "0   SHP781179 2025-05-16 00:27:49.435878  12.245633  121.215745  RFID1089   \n",
      "1   SHP826307 2025-05-15 18:13:49.436004  14.534347  123.975607  RFID1089   \n",
      "2   SHP796412 2025-05-15 21:11:49.436061  10.092921  122.832519  RFID1059   \n",
      "3   SHP883146 2025-05-15 11:33:49.436120  13.632215  123.363379  RFID1067   \n",
      "4   SHP935988 2025-05-15 11:55:49.436170  10.681723  120.933660  RFID1080   \n",
      "\n",
      "   package_temp_c  humidity_percent          status  \n",
      "0            6.61             65.30  Arrived at Hub  \n",
      "1            5.53             53.77       Delivered  \n",
      "2            5.59             45.75  Arrived at Hub  \n",
      "3            3.35             53.89         Delayed  \n",
      "4            9.58             33.12       Delivered  \n"
     ]
    }
   ],
   "source": [
    "import pandas as pd\n",
    "import numpy as np\n",
    "from datetime import datetime, timedelta\n",
    "\n",
    "num_records = 100  # Adjust as needed\n",
    "\n",
    "# Define example statuses and RFID tags\n",
    "statuses = [\"In Transit\", \"Arrived at Hub\", \"Out for Delivery\", \"Delivered\", \"Delayed\"]\n",
    "rfid_tags = [f\"RFID{str(i).zfill(4)}\" for i in range(1000, 1100)]\n",
    "\n",
    "# Generate synthetic data\n",
    "data = []\n",
    "for _ in range(num_records):\n",
    "    lat = round(np.random.uniform(10.0, 15.0), 6)  # GPS lat (e.g., within Philippines)\n",
    "    long = round(np.random.uniform(120.0, 125.0), 6)  # GPS long\n",
    "    temp = round(np.random.uniform(2.0, 10.0), 2)  # Temperature in °C (for cold chain)\n",
    "    humidity = round(np.random.uniform(30.0, 70.0), 2)  # Humidity %\n",
    "    \n",
    "    record = {\n",
    "        \"shipment_id\": f\"SHP{np.random.randint(100000, 999999)}\",\n",
    "        \"timestamp\": datetime.now() - timedelta(minutes=np.random.randint(0, 1440)),\n",
    "        \"gps_lat\": lat,\n",
    "        \"gps_long\": long,\n",
    "        \"rfid_tag\": np.random.choice(rfid_tags),\n",
    "        \"package_temp_c\": temp,\n",
    "        \"humidity_percent\": humidity,\n",
    "        \"status\": np.random.choice(statuses)\n",
    "    }\n",
    "    data.append(record)\n",
    "\n",
    "# Convert to DataFrame\n",
    "df = pd.DataFrame(data)\n",
    "\n",
    "# Save to files\n",
    "df.to_csv(\"smart_logistics_data.csv\", index=False)\n",
    "df.to_json(\"smart_logistics_data.json\", orient=\"records\")\n",
    "# testing\n",
    "# Show sample\n",
    "print(df.head())\n"
   ]
  },
  {
   "cell_type": "code",
   "execution_count": null,
   "id": "b6f73b5d",
   "metadata": {},
   "outputs": [],
   "source": []
  }
 ],
 "metadata": {
  "kernelspec": {
   "display_name": ".venv",
   "language": "python",
   "name": "python3"
  },
  "language_info": {
   "codemirror_mode": {
    "name": "ipython",
    "version": 3
   },
   "file_extension": ".py",
   "mimetype": "text/x-python",
   "name": "python",
   "nbconvert_exporter": "python",
   "pygments_lexer": "ipython3",
   "version": "3.13.3"
  }
 },
 "nbformat": 4,
 "nbformat_minor": 5
}
