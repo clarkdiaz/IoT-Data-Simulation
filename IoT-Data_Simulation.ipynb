{
 "cells": [
  {
   "cell_type": "code",
   "execution_count": 1,
   "id": "94fc67f7",
   "metadata": {},
   "outputs": [
    {
     "name": "stdout",
     "output_type": "stream",
     "text": [
      "  shipment_id                  timestamp    gps_lat    gps_long  rfid_tag  \\\n",
      "0   SHP980988 2025-05-15 13:52:59.194834  11.721861  122.739816  RFID1098   \n",
      "1   SHP650973 2025-05-15 07:19:59.194993  13.051399  121.518155  RFID1063   \n",
      "2   SHP339067 2025-05-15 05:03:59.195050  13.867232  122.339907  RFID1010   \n",
      "3   SHP328994 2025-05-15 20:11:59.195101  14.814776  122.012883  RFID1096   \n",
      "4   SHP634775 2025-05-15 15:02:59.195151  10.127991  120.478309  RFID1037   \n",
      "\n",
      "   package_temp_c  humidity_percent            status  \n",
      "0            6.80             43.68        In Transit  \n",
      "1            9.49             59.35    Arrived at Hub  \n",
      "2            6.63             34.58           Delayed  \n",
      "3            9.23             30.99           Delayed  \n",
      "4            8.04             46.65  Out for Delivery  \n"
     ]
    }
   ],
   "source": [
    "import pandas as pd\n",
    "import numpy as np\n",
    "from datetime import datetime, timedelta\n",
    "\n",
    "num_records = 100  # Adjust as needed\n",
    "\n",
    "# Define example statuses and RFID tags\n",
    "statuses = [\"In Transit\", \"Arrived at Hub\", \"Out for Delivery\", \"Delivered\", \"Delayed\"]\n",
    "rfid_tags = [f\"RFID{str(i).zfill(4)}\" for i in range(1000, 1100)]\n",
    "\n",
    "# Generate synthetic data\n",
    "data = []\n",
    "for _ in range(num_records):\n",
    "    lat = round(np.random.uniform(10.0, 15.0), 6)  # GPS lat (e.g., within Philippines)\n",
    "    long = round(np.random.uniform(120.0, 125.0), 6)  # GPS long\n",
    "    temp = round(np.random.uniform(2.0, 10.0), 2)  # Temperature in °C (for cold chain)\n",
    "    humidity = round(np.random.uniform(30.0, 70.0), 2)  # Humidity %\n",
    "    \n",
    "    record = {\n",
    "        \"shipment_id\": f\"SHP{np.random.randint(100000, 999999)}\",\n",
    "        \"timestamp\": datetime.now() - timedelta(minutes=np.random.randint(0, 1440)),\n",
    "        \"gps_lat\": lat,\n",
    "        \"gps_long\": long,\n",
    "        \"rfid_tag\": np.random.choice(rfid_tags),\n",
    "        \"package_temp_c\": temp,\n",
    "        \"humidity_percent\": humidity,\n",
    "        \"status\": np.random.choice(statuses)\n",
    "    }\n",
    "    data.append(record)\n",
    "\n",
    "# Convert to DataFrame\n",
    "df = pd.DataFrame(data)\n",
    "\n",
    "# Save to files\n",
    "df.to_csv(\"smart_logistics_data.csv\", index=False)\n",
    "df.to_json(\"smart_logistics_data.json\", orient=\"records\")\n",
    "\n",
    "# Show sample\n",
    "print(df.head())\n"
   ]
  }
 ],
 "metadata": {
  "kernelspec": {
   "display_name": ".venv",
   "language": "python",
   "name": "python3"
  },
  "language_info": {
   "codemirror_mode": {
    "name": "ipython",
    "version": 3
   },
   "file_extension": ".py",
   "mimetype": "text/x-python",
   "name": "python",
   "nbconvert_exporter": "python",
   "pygments_lexer": "ipython3",
   "version": "3.13.3"
  }
 },
 "nbformat": 4,
 "nbformat_minor": 5
}
